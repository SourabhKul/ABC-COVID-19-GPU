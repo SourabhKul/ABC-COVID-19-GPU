{
  "nbformat": 4,
  "nbformat_minor": 0,
  "metadata": {
    "colab": {
      "name": "ABC_TPU.ipynb",
      "provenance": [],
      "collapsed_sections": []
    },
    "kernelspec": {
      "name": "python3",
      "display_name": "Python 3"
    },
    "accelerator": "TPU"
  },
  "cells": [
    {
      "cell_type": "code",
      "metadata": {
        "id": "TblvaKikjtM5"
      },
      "source": [
        "%tensorflow_version 2.x\n",
        "import time\n",
        "import tensorflow as tf\n",
        "import tensorflow_probability as tfp\n",
        "import pkg_resources\n",
        "import pandas as pd\n",
        "import numpy as np\n",
        "from typing import List, Dict, Tuple\n",
        "dist = tfp.distributions\n",
        "tf.compat.v1.disable_eager_execution\n",
        "\n",
        "tfd = tfp.distributions\n",
        "\n",
        "import os\n",
        "import pprint"
      ],
      "execution_count": null,
      "outputs": []
    },
    {
      "cell_type": "code",
      "metadata": {
        "id": "eW2BBI094-AT",
        "colab": {
          "base_uri": "https://localhost:8080/"
        },
        "outputId": "236a4efb-800e-41b3-892d-ab1c24a0b085"
      },
      "source": [
        "# Initialize TPU Cluster \n",
        "try:\n",
        "  tpu = tf.distribute.cluster_resolver.TPUClusterResolver()  # TPU detection\n",
        "  print('Running on TPU ', tpu.cluster_spec().as_dict()['worker'])\n",
        "except ValueError:\n",
        "  raise BaseException('ERROR: Not connected to a TPU runtime; please see the previous cell in this notebook for instructions!')\n",
        "\n",
        "tf.config.experimental_connect_to_cluster(tpu)\n",
        "tf.tpu.experimental.initialize_tpu_system(tpu)\n",
        "tpu_strategy = tf.distribute.experimental.TPUStrategy(tpu)\n"
      ],
      "execution_count": null,
      "outputs": [
        {
          "output_type": "stream",
          "text": [
            "Running on TPU  ['10.35.218.146:8470']\n",
            "INFO:tensorflow:Initializing the TPU system: grpc://10.35.218.146:8470\n"
          ],
          "name": "stdout"
        },
        {
          "output_type": "stream",
          "text": [
            "INFO:tensorflow:Initializing the TPU system: grpc://10.35.218.146:8470\n"
          ],
          "name": "stderr"
        },
        {
          "output_type": "stream",
          "text": [
            "INFO:tensorflow:Clearing out eager caches\n"
          ],
          "name": "stdout"
        },
        {
          "output_type": "stream",
          "text": [
            "INFO:tensorflow:Clearing out eager caches\n"
          ],
          "name": "stderr"
        },
        {
          "output_type": "stream",
          "text": [
            "INFO:tensorflow:Finished initializing TPU system.\n"
          ],
          "name": "stdout"
        },
        {
          "output_type": "stream",
          "text": [
            "INFO:tensorflow:Finished initializing TPU system.\n",
            "WARNING:absl:`tf.distribute.experimental.TPUStrategy` is deprecated, please use  the non experimental symbol `tf.distribute.TPUStrategy` instead.\n"
          ],
          "name": "stderr"
        },
        {
          "output_type": "stream",
          "text": [
            "INFO:tensorflow:Found TPU system:\n"
          ],
          "name": "stdout"
        },
        {
          "output_type": "stream",
          "text": [
            "INFO:tensorflow:Found TPU system:\n"
          ],
          "name": "stderr"
        },
        {
          "output_type": "stream",
          "text": [
            "INFO:tensorflow:*** Num TPU Cores: 8\n"
          ],
          "name": "stdout"
        },
        {
          "output_type": "stream",
          "text": [
            "INFO:tensorflow:*** Num TPU Cores: 8\n"
          ],
          "name": "stderr"
        },
        {
          "output_type": "stream",
          "text": [
            "INFO:tensorflow:*** Num TPU Workers: 1\n"
          ],
          "name": "stdout"
        },
        {
          "output_type": "stream",
          "text": [
            "INFO:tensorflow:*** Num TPU Workers: 1\n"
          ],
          "name": "stderr"
        },
        {
          "output_type": "stream",
          "text": [
            "INFO:tensorflow:*** Num TPU Cores Per Worker: 8\n"
          ],
          "name": "stdout"
        },
        {
          "output_type": "stream",
          "text": [
            "INFO:tensorflow:*** Num TPU Cores Per Worker: 8\n"
          ],
          "name": "stderr"
        },
        {
          "output_type": "stream",
          "text": [
            "INFO:tensorflow:*** Available Device: _DeviceAttributes(/job:localhost/replica:0/task:0/device:CPU:0, CPU, 0, 0)\n"
          ],
          "name": "stdout"
        },
        {
          "output_type": "stream",
          "text": [
            "INFO:tensorflow:*** Available Device: _DeviceAttributes(/job:localhost/replica:0/task:0/device:CPU:0, CPU, 0, 0)\n"
          ],
          "name": "stderr"
        },
        {
          "output_type": "stream",
          "text": [
            "INFO:tensorflow:*** Available Device: _DeviceAttributes(/job:worker/replica:0/task:0/device:CPU:0, CPU, 0, 0)\n"
          ],
          "name": "stdout"
        },
        {
          "output_type": "stream",
          "text": [
            "INFO:tensorflow:*** Available Device: _DeviceAttributes(/job:worker/replica:0/task:0/device:CPU:0, CPU, 0, 0)\n"
          ],
          "name": "stderr"
        },
        {
          "output_type": "stream",
          "text": [
            "INFO:tensorflow:*** Available Device: _DeviceAttributes(/job:worker/replica:0/task:0/device:TPU:0, TPU, 0, 0)\n"
          ],
          "name": "stdout"
        },
        {
          "output_type": "stream",
          "text": [
            "INFO:tensorflow:*** Available Device: _DeviceAttributes(/job:worker/replica:0/task:0/device:TPU:0, TPU, 0, 0)\n"
          ],
          "name": "stderr"
        },
        {
          "output_type": "stream",
          "text": [
            "INFO:tensorflow:*** Available Device: _DeviceAttributes(/job:worker/replica:0/task:0/device:TPU:1, TPU, 0, 0)\n"
          ],
          "name": "stdout"
        },
        {
          "output_type": "stream",
          "text": [
            "INFO:tensorflow:*** Available Device: _DeviceAttributes(/job:worker/replica:0/task:0/device:TPU:1, TPU, 0, 0)\n"
          ],
          "name": "stderr"
        },
        {
          "output_type": "stream",
          "text": [
            "INFO:tensorflow:*** Available Device: _DeviceAttributes(/job:worker/replica:0/task:0/device:TPU:2, TPU, 0, 0)\n"
          ],
          "name": "stdout"
        },
        {
          "output_type": "stream",
          "text": [
            "INFO:tensorflow:*** Available Device: _DeviceAttributes(/job:worker/replica:0/task:0/device:TPU:2, TPU, 0, 0)\n"
          ],
          "name": "stderr"
        },
        {
          "output_type": "stream",
          "text": [
            "INFO:tensorflow:*** Available Device: _DeviceAttributes(/job:worker/replica:0/task:0/device:TPU:3, TPU, 0, 0)\n"
          ],
          "name": "stdout"
        },
        {
          "output_type": "stream",
          "text": [
            "INFO:tensorflow:*** Available Device: _DeviceAttributes(/job:worker/replica:0/task:0/device:TPU:3, TPU, 0, 0)\n"
          ],
          "name": "stderr"
        },
        {
          "output_type": "stream",
          "text": [
            "INFO:tensorflow:*** Available Device: _DeviceAttributes(/job:worker/replica:0/task:0/device:TPU:4, TPU, 0, 0)\n"
          ],
          "name": "stdout"
        },
        {
          "output_type": "stream",
          "text": [
            "INFO:tensorflow:*** Available Device: _DeviceAttributes(/job:worker/replica:0/task:0/device:TPU:4, TPU, 0, 0)\n"
          ],
          "name": "stderr"
        },
        {
          "output_type": "stream",
          "text": [
            "INFO:tensorflow:*** Available Device: _DeviceAttributes(/job:worker/replica:0/task:0/device:TPU:5, TPU, 0, 0)\n"
          ],
          "name": "stdout"
        },
        {
          "output_type": "stream",
          "text": [
            "INFO:tensorflow:*** Available Device: _DeviceAttributes(/job:worker/replica:0/task:0/device:TPU:5, TPU, 0, 0)\n"
          ],
          "name": "stderr"
        },
        {
          "output_type": "stream",
          "text": [
            "INFO:tensorflow:*** Available Device: _DeviceAttributes(/job:worker/replica:0/task:0/device:TPU:6, TPU, 0, 0)\n"
          ],
          "name": "stdout"
        },
        {
          "output_type": "stream",
          "text": [
            "INFO:tensorflow:*** Available Device: _DeviceAttributes(/job:worker/replica:0/task:0/device:TPU:6, TPU, 0, 0)\n"
          ],
          "name": "stderr"
        },
        {
          "output_type": "stream",
          "text": [
            "INFO:tensorflow:*** Available Device: _DeviceAttributes(/job:worker/replica:0/task:0/device:TPU:7, TPU, 0, 0)\n"
          ],
          "name": "stdout"
        },
        {
          "output_type": "stream",
          "text": [
            "INFO:tensorflow:*** Available Device: _DeviceAttributes(/job:worker/replica:0/task:0/device:TPU:7, TPU, 0, 0)\n"
          ],
          "name": "stderr"
        },
        {
          "output_type": "stream",
          "text": [
            "INFO:tensorflow:*** Available Device: _DeviceAttributes(/job:worker/replica:0/task:0/device:TPU_SYSTEM:0, TPU_SYSTEM, 0, 0)\n"
          ],
          "name": "stdout"
        },
        {
          "output_type": "stream",
          "text": [
            "INFO:tensorflow:*** Available Device: _DeviceAttributes(/job:worker/replica:0/task:0/device:TPU_SYSTEM:0, TPU_SYSTEM, 0, 0)\n"
          ],
          "name": "stderr"
        },
        {
          "output_type": "stream",
          "text": [
            "INFO:tensorflow:*** Available Device: _DeviceAttributes(/job:worker/replica:0/task:0/device:XLA_CPU:0, XLA_CPU, 0, 0)\n"
          ],
          "name": "stdout"
        },
        {
          "output_type": "stream",
          "text": [
            "INFO:tensorflow:*** Available Device: _DeviceAttributes(/job:worker/replica:0/task:0/device:XLA_CPU:0, XLA_CPU, 0, 0)\n"
          ],
          "name": "stderr"
        }
      ]
    },
    {
      "cell_type": "code",
      "metadata": {
        "id": "CX6qEAlUpkIQ"
      },
      "source": [
        "tolerance = 1e5\n",
        "num_samples = 750000\n",
        "population = 60.36e6\n",
        "\n",
        "# data for Italy, source: https://github.com/CSSEGISandData/COVID-19\n",
        "\n",
        "country_data_train = tf.constant([[   155,    229,    322,    453,    655,    888,   1128,   1694,   2036,\n",
        "           2502,   3089,   3858,   4636,   5883,   7375,   9172,  10149,  12462,\n",
        "          15113,  17660,  21157,  24747,  27980,  31506,  35713,  41035,  47021,\n",
        "          53578,  59138,  63927,  69176,  74386,  80589,  86498,  92472,  97689,\n",
        "         101739, 105792, 110574, 115242, 119827, 124632, 128948, 132547, 135586,\n",
        "         139422, 143626, 147577, 152271],\n",
        "        [     2,      1,      1,      3,     45,     46,     46,     83,    149,\n",
        "            160,    276,    414,    523,    589,    622,    724,    724,   1045,\n",
        "           1045,   1439,   1966,   2335,   2749,   2941,   4025,   4440,   4440,\n",
        "           6072,   7024,   7024,   8326,   9362,  10361,  10950,  12384,  13030,\n",
        "          14620,  15729,  16847,  18278,  19758,  20996,  21815,  22837,  24392,\n",
        "          26491,  28470,  30455,  32534],\n",
        "        [     3,      7,     10,     12,     17,     21,     29,     34,     52,\n",
        "             79,    107,    148,    197,    233,    366,    463,    631,    827,\n",
        "           1016,   1266,   1441,   1809,   2158,   2503,   2978,   3405,   4032,\n",
        "           4825,   5476,   6077,   6820,   7503,   8215,   9134,  10023,  10779,\n",
        "          11591,  12428,  13155,  13915,  14681,  15362,  15887,  16523,  17127,\n",
        "          17669,  18279,  18849,  19468]], dtype=tf.float32)"
      ],
      "execution_count": null,
      "outputs": []
    },
    {
      "cell_type": "markdown",
      "metadata": {
        "id": "kCPEOqPoDVjL"
      },
      "source": [
        "## Run TPU with TF-optimzied code"
      ]
    },
    {
      "cell_type": "code",
      "metadata": {
        "id": "g3oKNgvy0m4n"
      },
      "source": [
        "@tf.function(experimental_compile=True)\n",
        "def build_graph():\n",
        "    num_days = tf.cast(country_data_train.shape[1], tf.int32)\n",
        "    P = tf.ones(num_samples) * population\n",
        "    A_0 = tf.ones(num_samples) * country_data_train[0, 0]\n",
        "    R_0 = tf.ones(num_samples) * country_data_train[1, 0]\n",
        "    D_0 = tf.ones(num_samples) * country_data_train[2, 0]\n",
        "    param_vector = tf.transpose(tfd.Uniform(\n",
        "        tf.constant([0.0, 0.0, 0.0, 0.0, 0.0, 0.0, 0.0, 0.0]),\n",
        "        tf.constant([1.0, 100.0, 2.0, 1.0, 1.0, 1.0, 1.0, 2.0]),\n",
        "        ).sample(num_samples))\n",
        "\n",
        "    summary = tf.zeros([num_days, 3, num_samples])\n",
        "\n",
        "    nu = tf.constant([[-1,  1,  0, 0, 0, 0],\n",
        "                      [ 0, -1,  1, 0, 0, 0],\n",
        "                      [ 0,  0, -1, 1, 0, 0],\n",
        "                      [ 0,  0, -1, 0, 1, 0],\n",
        "                      [ 0, -1,  0, 0, 0, 1]], dtype=tf.float32)\n",
        "\n",
        "    S_store = P - param_vector[7] * A_0 - (A_0 + R_0 + D_0)\n",
        "    I_store = param_vector[7] * A_0\n",
        "    A_store = A_0\n",
        "    R_store = R_0\n",
        "    D_store = D_0\n",
        "    Ru_store = tf.zeros(num_samples)\n",
        "\n",
        "    summary = tf.tensor_scatter_nd_add(summary, [[0,0], [0,1], [0,2]],tf.stack([A_store, R_store, D_store]))\n",
        "\n",
        "\n",
        "    def body(i, s, S, I, A, R, D, Ru):\n",
        "        U = A + R + D\n",
        "        alpha_t = param_vector[0] + (\n",
        "                    param_vector[1] / (tf.constant(1.0) + tf.pow(U, param_vector[2])))\n",
        "        h_1 = (S * I / P) * alpha_t\n",
        "        h_2 = I * param_vector[4]\n",
        "        h_3 = A * param_vector[3]\n",
        "        h_4 = A * param_vector[5]\n",
        "        h_5 = I * param_vector[6] * param_vector[3]\n",
        "        h = tf.stack([h_1, h_2, h_3, h_4, h_5])\n",
        "        Y_store = tf.clip_by_value(tf.math.floor(tfd.Normal(loc=h,scale=tf.sqrt(h)).sample()), 0.0, P)\n",
        "\n",
        "        m = tf.matmul(tf.transpose(nu), Y_store)\n",
        "\n",
        "        S = tf.clip_by_value(S + m[0,:], 0.0, P)\n",
        "        I = tf.clip_by_value(I + m[1,:], 0.0, P)\n",
        "        A = tf.clip_by_value(A + m[2,:], 0.0, P)\n",
        "        R = tf.clip_by_value(R + m[3,:], 0.0, P)\n",
        "        D = tf.clip_by_value(D + m[4,:], 0.0, P)\n",
        "        Ru = tf.clip_by_value(Ru + m[5,:], 0.0, P)\n",
        "\n",
        "        s = tf.tensor_scatter_nd_add(s, [[i,0], [i,1], [i,2]], tf.stack([A, R, D]))\n",
        "\n",
        "        return i+1, s, S, I, A, R, D, Ru\n",
        "\n",
        "\n",
        "    init_idx = tf.zeros([], dtype=tf.int32) + 1\n",
        "    i, summary, *_ = tf.while_loop(lambda i, *_: i < num_days, body, [init_idx, summary, S_store, I_store, A_store, R_store, D_store, Ru_store])\n",
        "\n",
        "\n",
        "    t_summary = tf.transpose(summary, perm=[2,1,0])\n",
        "    distances = tf.norm( tf.broadcast_to( country_data_train,tf.constant([num_samples,country_data_train.shape[0],country_data_train.shape[1]], dtype=tf.int32))- t_summary, axis=2 )\n",
        "    reduced_distances = tf.reduce_sum(distances, axis=1)\n",
        "    acceptance_vector = reduced_distances <= tolerance\n",
        "    num_accepted_samples = tf.reduce_sum(tf.cast(acceptance_vector, dtype=tf.float32), name = \"num_accepted_samples\")\n",
        "    min_distances, min_dist_indices = tf.math.top_k(-reduced_distances, 2)\n",
        "    params_to_return = tf.gather(param_vector, min_dist_indices, axis=1)\n",
        "    return num_accepted_samples, params_to_return, -min_distances"
      ],
      "execution_count": null,
      "outputs": []
    },
    {
      "cell_type": "code",
      "metadata": {
        "id": "zfwCmH9U0ui-",
        "colab": {
          "base_uri": "https://localhost:8080/"
        },
        "outputId": "afaca469-3f74-41f0-d2dc-ec12bccf4178"
      },
      "source": [
        "# We only use 1 TPU \n",
        "with tf.device('/TPU:0'):\n",
        "  # Warm-up xla compilation\n",
        "  build_graph()\n",
        "\n",
        "  # ABC inference\n",
        "  print(\"Running...\")\n",
        "  max_runs = 30000\n",
        "  samples_target = 100\n",
        "  samples_collected = 0\n",
        "  num_runs = 0\n",
        "  start_time = time.time()\n",
        "  returned_samples = []\n",
        "  min_distances = []\n",
        "  # tf.profiler.experimental.server.start(6009) # performance profiling; comment-out to run without profiling\n",
        "  # single inference step; repeat until enough samples collected\n",
        "\n",
        "  for step in range(max_runs):\n",
        "      # with tf.profiler.experimental.Trace('train', step_num=step, _r=1): # performance profiling; comment-out and un-indent block below to run without profiling \n",
        "      \n",
        "      num_accepted_samples, returned_run_params, min_distance = build_graph()\n",
        "      samples_collected += num_accepted_samples\n",
        "      if num_accepted_samples:\n",
        "          returned_samples.append(returned_run_params)\n",
        "          min_distances.append(min_distance)\n",
        "      num_runs += 1\n",
        "      print('\\r',f\" Number of simulation runs: {num_runs} ; Number of accepted samples: {samples_collected}\", end=\"\")\n",
        "      if samples_collected >= samples_target:\n",
        "          break\n",
        "\n",
        "# Post processing\n",
        "returned_samples = tf.stack(returned_samples)\n",
        "min_distances = tf.stack(min_distances)\n",
        "returned_samples = (tf.transpose(returned_samples, [2,0,1]))\n",
        "flattened_samples = tf.reshape(returned_samples, [-1, 8])\n",
        "selected_samples = tf.boolean_mask(flattened_samples, tf.reshape(min_distances, [-1]) <= 1e5)\n",
        "\n",
        "end_time = time.time()\n",
        "\n",
        "# Print inference summary\n",
        "print(\"Completed in {0:.3f} seconds\\n\".format(end_time - start_time))\n",
        "print(f\"Samples collected: {samples_collected}\")\n",
        "print(f\"Number of runs: {num_runs}\")\n",
        "print(\"Time per run: {0:.3f} milliseconds\\n\".format(1e3*(end_time - start_time)/num_runs))"
      ],
      "execution_count": null,
      "outputs": [
        {
          "output_type": "stream",
          "text": [
            "Running...\n",
            "  Number of simulation runs: 4006 ; Number of accepted samples: 100.0Completed in 714.279 seconds\n",
            "\n",
            "Samples collected: 100.0\n",
            "Number of runs: 4006\n",
            "Time per run: 178.302 milliseconds\n",
            "\n"
          ],
          "name": "stdout"
        }
      ]
    }
  ]
}